{
 "cells": [
  {
   "cell_type": "markdown",
   "metadata": {
    "Collapsed": "false"
   },
   "source": [
    "# Azure overview"
   ]
  },
  {
   "cell_type": "code",
   "execution_count": 1,
   "metadata": {
    "Collapsed": "false"
   },
   "outputs": [],
   "source": [
    "import pyodbc\n",
    "import getpass"
   ]
  },
  {
   "cell_type": "markdown",
   "metadata": {},
   "source": [
    "\n",
    "Some info here:\n",
    "- https://github.com/mkleehammer/pyodbc/wiki/Connecting-to-SQL-Server-from-Mac-OSX"
   ]
  },
  {
   "cell_type": "code",
   "execution_count": 6,
   "metadata": {
    "Collapsed": "false"
   },
   "outputs": [
    {
     "data": {
      "text/plain": [
       "[]"
      ]
     },
     "execution_count": 6,
     "metadata": {},
     "output_type": "execute_result"
    }
   ],
   "source": [
    "pyodbc.drivers()"
   ]
  },
  {
   "cell_type": "code",
   "execution_count": 3,
   "metadata": {
    "Collapsed": "false"
   },
   "outputs": [
    {
     "name": "stdin",
     "output_type": "stream",
     "text": [
      " ········\n"
     ]
    }
   ],
   "source": [
    "PASSW = getpass.getpass()"
   ]
  },
  {
   "cell_type": "code",
   "execution_count": 7,
   "metadata": {
    "Collapsed": "false"
   },
   "outputs": [],
   "source": [
    "server = 'x5of8onr2p.database.windows.net'\n",
    "database = 'pdb1'\n",
    "username = 'paas'\n",
    "driver= '{ODBC Driver 17 for SQL Server}'"
   ]
  },
  {
   "cell_type": "code",
   "execution_count": 8,
   "metadata": {
    "Collapsed": "false"
   },
   "outputs": [
    {
     "ename": "Error",
     "evalue": "('01000', \"[01000] [unixODBC][Driver Manager]Can't open lib 'ODBC Driver 17 for SQL Server' : file not found (0) (SQLDriverConnect)\")",
     "output_type": "error",
     "traceback": [
      "\u001b[0;31m---------------------------------------------------------------------------\u001b[0m",
      "\u001b[0;31mError\u001b[0m                                     Traceback (most recent call last)",
      "\u001b[0;32m<ipython-input-8-a586b73386d9>\u001b[0m in \u001b[0;36m<module>\u001b[0;34m\u001b[0m\n\u001b[0;32m----> 1\u001b[0;31m \u001b[0mcnxn\u001b[0m \u001b[0;34m=\u001b[0m \u001b[0mpyodbc\u001b[0m\u001b[0;34m.\u001b[0m\u001b[0mconnect\u001b[0m\u001b[0;34m(\u001b[0m\u001b[0;34m'DRIVER='\u001b[0m\u001b[0;34m+\u001b[0m\u001b[0mdriver\u001b[0m\u001b[0;34m+\u001b[0m\u001b[0;34m';SERVER='\u001b[0m\u001b[0;34m+\u001b[0m\u001b[0mserver\u001b[0m\u001b[0;34m+\u001b[0m\u001b[0;34m';PORT=1433;DATABASE='\u001b[0m\u001b[0;34m+\u001b[0m\u001b[0mdatabase\u001b[0m\u001b[0;34m+\u001b[0m\u001b[0;34m';UID='\u001b[0m\u001b[0;34m+\u001b[0m\u001b[0musername\u001b[0m\u001b[0;34m+\u001b[0m\u001b[0;34m';PWD='\u001b[0m\u001b[0;34m+\u001b[0m \u001b[0mPASSW\u001b[0m\u001b[0;34m)\u001b[0m\u001b[0;34m\u001b[0m\u001b[0;34m\u001b[0m\u001b[0m\n\u001b[0m",
      "\u001b[0;31mError\u001b[0m: ('01000', \"[01000] [unixODBC][Driver Manager]Can't open lib 'ODBC Driver 17 for SQL Server' : file not found (0) (SQLDriverConnect)\")"
     ]
    }
   ],
   "source": [
    "cnxn = pyodbc.connect('DRIVER='+driver+';SERVER='+server+';PORT=1433;DATABASE='+database+';UID='+username+';PWD='+ PASSW)"
   ]
  },
  {
   "cell_type": "markdown",
   "metadata": {},
   "source": [
    "To make it possible to user driver name on MacOS some editing of the odbc.ini file(s) is needed ?"
   ]
  },
  {
   "cell_type": "code",
   "execution_count": 12,
   "metadata": {},
   "outputs": [],
   "source": [
    "cnxn = pyodbc.connect(\n",
    "    server=server,\n",
    "    database=database,\n",
    "    user=username,\n",
    "    tds_version='7.4',\n",
    "    password=PASSW,\n",
    "    port=1433,\n",
    "    driver='/usr/local/lib/libmsodbcsql.17.dylib'\n",
    ")"
   ]
  },
  {
   "cell_type": "code",
   "execution_count": 14,
   "metadata": {
    "Collapsed": "false"
   },
   "outputs": [
    {
     "name": "stdout",
     "output_type": "stream",
     "text": [
      "(-1, -1, -1, 20131024, -1, 20131028, -1, 2342, 188900.0, 188900.0, 188900.0, 6, 1, '                    Trollhõttan', 'NOT_KNOWN', None)\n",
      "(-1, -1, -1, 20131024, -1, 20131129, -1, 1, 415000.0, 415000.0, 415000.0, 38, 1, '                    AlingsÕs', 'NOT_KNOWN', None)\n",
      "(-1, -1, -1, 20131024, -1, 20140626, -1, 0, 312900.0, 299000.0, 356600.0, 247, 1, '                    Kungõlv', 'NOT_KNOWN', None)\n",
      "(-1, -1, -1, 20131217, -1, 20131227, 2, 5802, 255900.0, 255900.0, 269900.0, 12, 1, '                    Esl÷v', 'NOT_KNOWN', None)\n",
      "(-1, -1, -1, 20140301, -1, 20140614, 14, 0, 238390.0, 238390.0, 238390.0, 107, 1, '                    Kista', 'NOT_KNOWN', None)\n",
      "(-1, -1, -1, 20140731, -1, 20140811, 12, 20400, 29900.0, 26500.0, 29900.0, 13, 1, '                    Falun', 'NOT_KNOWN', None)\n",
      "(-1, -1, -1, 20140720, -1, 20140915, 8, 750, 289000.0, 289000.0, 289000.0, 59, 1, '                    VõsterÕs', 'NOT_KNOWN', None)\n",
      "(-1, -1, -1, 20140704, -1, 20141006, 6, 12500, 97500.0, 97500.0, 97500.0, 96, 1, '                    Ljungby', 'NOT_KNOWN', None)\n",
      "(-1, -1, -1, 20140610, -1, 20141006, 6, 7900, 275000.0, 275000.0, 275000.0, 120, 1, '                    Ljungby', 'NOT_KNOWN', None)\n",
      "(-1, -1, -1, 20140731, -1, 20141006, 17, 0, 441900.0, 429900.0, 441900.0, 69, 1, '                    Nybro', 'NOT_KNOWN', None)\n",
      "(-1, -1, -1, 20140426, -1, 20140829, 4, 2270, 159500.0, 159500.0, 159500.0, 127, 1, '                    Võnersborg', 'NOT_KNOWN', None)\n",
      "(-1, -1, -1, 20140418, -1, 20140420, 2, 1, 185800.0, 185800.0, 185800.0, 4, 1, '                    Lund', 'NOT_KNOWN', None)\n",
      "(-1, -1, -1, 20140114, -1, 20140115, 14, 8591, 299000.0, 299000.0, 299000.0, 3, 1, '                    Upplands Võsby', 'NOT_KNOWN', None)\n",
      "(-1, -1, -1, 20140214, -1, 20140225, 14, 1317, 364900.0, 364900.0, 364900.0, 13, 1, '                    Vallentuna', 'NOT_KNOWN', None)\n",
      "(-1, -1, -1, 20131024, -1, 20140403, -1, 3753, 149000.0, 139500.0, 188900.0, 163, 1, '                    Trollhõttan', 'NOT_KNOWN', None)\n",
      "(-1, -1, -1, 20131024, -1, 20140130, -1, 0, 189900.0, 189900.0, 189900.0, 100, 1, '                    Eksj÷', 'NOT_KNOWN', None)\n",
      "(-1, -1, -1, 20131024, -1, 20140328, -1, 0, 179900.0, 174900.0, 209050.0, 157, 1, '                    Avesta', 'NOT_KNOWN', None)\n",
      "(-1, -1, -1, 20131024, -1, 20131028, -1, 3996, 235000.0, 235000.0, 235000.0, 6, 1, '                    Link÷ping', 'NOT_KNOWN', None)\n",
      "(-1, -1, -1, 20140823, -1, 20140826, 14, 6900, 284900.0, 284900.0, 284900.0, 5, 1, '                    Norrtõlje', 'NOT_KNOWN', None)\n",
      "(-1, -1, -1, 20131024, -1, 20140505, -1, 0, 298000.0, 298000.0, 319900.0, 195, 1, '                    Eksj÷', 'NOT_KNOWN', None)\n"
     ]
    }
   ],
   "source": [
    "cursor = cnxn.cursor()\n",
    "cursor.execute(\"SELECT TOP 20 * from fPricePoint\")\n",
    "row = cursor.fetchone()\n",
    "while row:\n",
    "    print (row)\n",
    "    row = cursor.fetchone()"
   ]
  },
  {
   "cell_type": "code",
   "execution_count": null,
   "metadata": {
    "Collapsed": "false"
   },
   "outputs": [],
   "source": []
  },
  {
   "cell_type": "code",
   "execution_count": null,
   "metadata": {
    "Collapsed": "false"
   },
   "outputs": [],
   "source": []
  },
  {
   "cell_type": "code",
   "execution_count": null,
   "metadata": {
    "Collapsed": "false"
   },
   "outputs": [],
   "source": []
  },
  {
   "cell_type": "code",
   "execution_count": null,
   "metadata": {
    "Collapsed": "false"
   },
   "outputs": [],
   "source": []
  },
  {
   "cell_type": "code",
   "execution_count": null,
   "metadata": {
    "Collapsed": "false"
   },
   "outputs": [],
   "source": []
  },
  {
   "cell_type": "code",
   "execution_count": null,
   "metadata": {
    "Collapsed": "false"
   },
   "outputs": [],
   "source": []
  },
  {
   "cell_type": "code",
   "execution_count": null,
   "metadata": {
    "Collapsed": "false"
   },
   "outputs": [],
   "source": []
  },
  {
   "cell_type": "code",
   "execution_count": null,
   "metadata": {
    "Collapsed": "false"
   },
   "outputs": [],
   "source": []
  },
  {
   "cell_type": "code",
   "execution_count": null,
   "metadata": {
    "Collapsed": "false"
   },
   "outputs": [],
   "source": []
  }
 ],
 "metadata": {
  "kernelspec": {
   "display_name": "Python 3",
   "language": "python",
   "name": "python3"
  },
  "language_info": {
   "codemirror_mode": {
    "name": "ipython",
    "version": 3
   },
   "file_extension": ".py",
   "mimetype": "text/x-python",
   "name": "python",
   "nbconvert_exporter": "python",
   "pygments_lexer": "ipython3",
   "version": "3.8.1"
  }
 },
 "nbformat": 4,
 "nbformat_minor": 4
}
